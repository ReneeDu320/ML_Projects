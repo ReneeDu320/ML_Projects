{
 "cells": [
  {
   "cell_type": "markdown",
   "metadata": {},
   "source": [
    "## Credit Scoring Models with Python\n",
    "\n",
    "### 1. Background\n",
    "Credit scoring algorithms, which make a guess at the probability of default, are the method banks use to determine whether or not a loan should be granted. \n",
    "\n",
    "data source: https://www.kaggle.com/brycecf/give-me-some-credit-dataset?select=cs-training.csv\n"
   ]
  },
  {
   "cell_type": "markdown",
   "metadata": {},
   "source": [
    "## Data Processing\n",
    "### 2.1 Dataset Overview"
   ]
  },
  {
   "cell_type": "code",
   "execution_count": 2,
   "metadata": {},
   "outputs": [
    {
     "name": "stdout",
     "output_type": "stream",
     "text": [
      "<class 'pandas.core.frame.DataFrame'>\n",
      "RangeIndex: 150000 entries, 0 to 149999\n",
      "Data columns (total 11 columns):\n",
      " #   Column                                Non-Null Count   Dtype  \n",
      "---  ------                                --------------   -----  \n",
      " 0   SeriousDlqin2yrs                      150000 non-null  int64  \n",
      " 1   RevolvingUtilizationOfUnsecuredLines  150000 non-null  float64\n",
      " 2   age                                   150000 non-null  int64  \n",
      " 3   NumberOfTime30-59DaysPastDueNotWorse  150000 non-null  int64  \n",
      " 4   DebtRatio                             150000 non-null  float64\n",
      " 5   MonthlyIncome                         120269 non-null  float64\n",
      " 6   NumberOfOpenCreditLinesAndLoans       150000 non-null  int64  \n",
      " 7   NumberOfTimes90DaysLate               150000 non-null  int64  \n",
      " 8   NumberRealEstateLoansOrLines          150000 non-null  int64  \n",
      " 9   NumberOfTime60-89DaysPastDueNotWorse  150000 non-null  int64  \n",
      " 10  NumberOfDependents                    146076 non-null  float64\n",
      "dtypes: float64(4), int64(7)\n",
      "memory usage: 12.6 MB\n"
     ]
    }
   ],
   "source": [
    "#import library\n",
    "import pandas as pd\n",
    "import numpy as np\n",
    "import seaborn as sns\n",
    "\n",
    "#import data\n",
    "train_data = pd.read_csv(\"cs-training.csv\")\n",
    "#remove the first column\n",
    "train_data = train_data.iloc[:,1:]\n",
    "train_data.info()"
   ]
  },
  {
   "cell_type": "code",
   "execution_count": 3,
   "metadata": {},
   "outputs": [
    {
     "data": {
      "text/html": [
       "<div>\n",
       "<style scoped>\n",
       "    .dataframe tbody tr th:only-of-type {\n",
       "        vertical-align: middle;\n",
       "    }\n",
       "\n",
       "    .dataframe tbody tr th {\n",
       "        vertical-align: top;\n",
       "    }\n",
       "\n",
       "    .dataframe thead th {\n",
       "        text-align: right;\n",
       "    }\n",
       "</style>\n",
       "<table border=\"1\" class=\"dataframe\">\n",
       "  <thead>\n",
       "    <tr style=\"text-align: right;\">\n",
       "      <th></th>\n",
       "      <th>SeriousDlqin2yrs</th>\n",
       "      <th>RevolvingUtilizationOfUnsecuredLines</th>\n",
       "      <th>age</th>\n",
       "      <th>NumberOfTime30-59DaysPastDueNotWorse</th>\n",
       "      <th>DebtRatio</th>\n",
       "      <th>MonthlyIncome</th>\n",
       "      <th>NumberOfOpenCreditLinesAndLoans</th>\n",
       "      <th>NumberOfTimes90DaysLate</th>\n",
       "      <th>NumberRealEstateLoansOrLines</th>\n",
       "      <th>NumberOfTime60-89DaysPastDueNotWorse</th>\n",
       "      <th>NumberOfDependents</th>\n",
       "    </tr>\n",
       "  </thead>\n",
       "  <tbody>\n",
       "    <tr>\n",
       "      <th>count</th>\n",
       "      <td>150000.000000</td>\n",
       "      <td>150000.000000</td>\n",
       "      <td>150000.000000</td>\n",
       "      <td>150000.000000</td>\n",
       "      <td>150000.000000</td>\n",
       "      <td>1.202690e+05</td>\n",
       "      <td>150000.000000</td>\n",
       "      <td>150000.000000</td>\n",
       "      <td>150000.000000</td>\n",
       "      <td>150000.000000</td>\n",
       "      <td>146076.000000</td>\n",
       "    </tr>\n",
       "    <tr>\n",
       "      <th>mean</th>\n",
       "      <td>0.066840</td>\n",
       "      <td>6.048438</td>\n",
       "      <td>52.295207</td>\n",
       "      <td>0.421033</td>\n",
       "      <td>353.005076</td>\n",
       "      <td>6.670221e+03</td>\n",
       "      <td>8.452760</td>\n",
       "      <td>0.265973</td>\n",
       "      <td>1.018240</td>\n",
       "      <td>0.240387</td>\n",
       "      <td>0.757222</td>\n",
       "    </tr>\n",
       "    <tr>\n",
       "      <th>std</th>\n",
       "      <td>0.249746</td>\n",
       "      <td>249.755371</td>\n",
       "      <td>14.771866</td>\n",
       "      <td>4.192781</td>\n",
       "      <td>2037.818523</td>\n",
       "      <td>1.438467e+04</td>\n",
       "      <td>5.145951</td>\n",
       "      <td>4.169304</td>\n",
       "      <td>1.129771</td>\n",
       "      <td>4.155179</td>\n",
       "      <td>1.115086</td>\n",
       "    </tr>\n",
       "    <tr>\n",
       "      <th>min</th>\n",
       "      <td>0.000000</td>\n",
       "      <td>0.000000</td>\n",
       "      <td>0.000000</td>\n",
       "      <td>0.000000</td>\n",
       "      <td>0.000000</td>\n",
       "      <td>0.000000e+00</td>\n",
       "      <td>0.000000</td>\n",
       "      <td>0.000000</td>\n",
       "      <td>0.000000</td>\n",
       "      <td>0.000000</td>\n",
       "      <td>0.000000</td>\n",
       "    </tr>\n",
       "    <tr>\n",
       "      <th>25%</th>\n",
       "      <td>0.000000</td>\n",
       "      <td>0.029867</td>\n",
       "      <td>41.000000</td>\n",
       "      <td>0.000000</td>\n",
       "      <td>0.175074</td>\n",
       "      <td>3.400000e+03</td>\n",
       "      <td>5.000000</td>\n",
       "      <td>0.000000</td>\n",
       "      <td>0.000000</td>\n",
       "      <td>0.000000</td>\n",
       "      <td>0.000000</td>\n",
       "    </tr>\n",
       "    <tr>\n",
       "      <th>50%</th>\n",
       "      <td>0.000000</td>\n",
       "      <td>0.154181</td>\n",
       "      <td>52.000000</td>\n",
       "      <td>0.000000</td>\n",
       "      <td>0.366508</td>\n",
       "      <td>5.400000e+03</td>\n",
       "      <td>8.000000</td>\n",
       "      <td>0.000000</td>\n",
       "      <td>1.000000</td>\n",
       "      <td>0.000000</td>\n",
       "      <td>0.000000</td>\n",
       "    </tr>\n",
       "    <tr>\n",
       "      <th>75%</th>\n",
       "      <td>0.000000</td>\n",
       "      <td>0.559046</td>\n",
       "      <td>63.000000</td>\n",
       "      <td>0.000000</td>\n",
       "      <td>0.868254</td>\n",
       "      <td>8.249000e+03</td>\n",
       "      <td>11.000000</td>\n",
       "      <td>0.000000</td>\n",
       "      <td>2.000000</td>\n",
       "      <td>0.000000</td>\n",
       "      <td>1.000000</td>\n",
       "    </tr>\n",
       "    <tr>\n",
       "      <th>max</th>\n",
       "      <td>1.000000</td>\n",
       "      <td>50708.000000</td>\n",
       "      <td>109.000000</td>\n",
       "      <td>98.000000</td>\n",
       "      <td>329664.000000</td>\n",
       "      <td>3.008750e+06</td>\n",
       "      <td>58.000000</td>\n",
       "      <td>98.000000</td>\n",
       "      <td>54.000000</td>\n",
       "      <td>98.000000</td>\n",
       "      <td>20.000000</td>\n",
       "    </tr>\n",
       "  </tbody>\n",
       "</table>\n",
       "</div>"
      ],
      "text/plain": [
       "       SeriousDlqin2yrs  RevolvingUtilizationOfUnsecuredLines            age  \\\n",
       "count     150000.000000                         150000.000000  150000.000000   \n",
       "mean           0.066840                              6.048438      52.295207   \n",
       "std            0.249746                            249.755371      14.771866   \n",
       "min            0.000000                              0.000000       0.000000   \n",
       "25%            0.000000                              0.029867      41.000000   \n",
       "50%            0.000000                              0.154181      52.000000   \n",
       "75%            0.000000                              0.559046      63.000000   \n",
       "max            1.000000                          50708.000000     109.000000   \n",
       "\n",
       "       NumberOfTime30-59DaysPastDueNotWorse      DebtRatio  MonthlyIncome  \\\n",
       "count                         150000.000000  150000.000000   1.202690e+05   \n",
       "mean                               0.421033     353.005076   6.670221e+03   \n",
       "std                                4.192781    2037.818523   1.438467e+04   \n",
       "min                                0.000000       0.000000   0.000000e+00   \n",
       "25%                                0.000000       0.175074   3.400000e+03   \n",
       "50%                                0.000000       0.366508   5.400000e+03   \n",
       "75%                                0.000000       0.868254   8.249000e+03   \n",
       "max                               98.000000  329664.000000   3.008750e+06   \n",
       "\n",
       "       NumberOfOpenCreditLinesAndLoans  NumberOfTimes90DaysLate  \\\n",
       "count                    150000.000000            150000.000000   \n",
       "mean                          8.452760                 0.265973   \n",
       "std                           5.145951                 4.169304   \n",
       "min                           0.000000                 0.000000   \n",
       "25%                           5.000000                 0.000000   \n",
       "50%                           8.000000                 0.000000   \n",
       "75%                          11.000000                 0.000000   \n",
       "max                          58.000000                98.000000   \n",
       "\n",
       "       NumberRealEstateLoansOrLines  NumberOfTime60-89DaysPastDueNotWorse  \\\n",
       "count                 150000.000000                         150000.000000   \n",
       "mean                       1.018240                              0.240387   \n",
       "std                        1.129771                              4.155179   \n",
       "min                        0.000000                              0.000000   \n",
       "25%                        0.000000                              0.000000   \n",
       "50%                        1.000000                              0.000000   \n",
       "75%                        2.000000                              0.000000   \n",
       "max                       54.000000                             98.000000   \n",
       "\n",
       "       NumberOfDependents  \n",
       "count       146076.000000  \n",
       "mean             0.757222  \n",
       "std              1.115086  \n",
       "min              0.000000  \n",
       "25%              0.000000  \n",
       "50%              0.000000  \n",
       "75%              1.000000  \n",
       "max             20.000000  "
      ]
     },
     "execution_count": 3,
     "metadata": {},
     "output_type": "execute_result"
    }
   ],
   "source": [
    "train_data.describe()"
   ]
  },
  {
   "cell_type": "markdown",
   "metadata": {},
   "source": [
    "The above result shows that there are many missing values in the MonthlyIncome Column(150000 - 120269 = 29731 missing). Ther are also missing values in the Number of Dependents column (missing 3924). "
   ]
  },
  {
   "cell_type": "markdown",
   "metadata": {},
   "source": [
    "### 2.2 Data Manipulation\n",
    "#### 2.2.1 Missing Data\n",
    "\n",
    "It is common to have missing values in the real dataset. Usually we can remove the missing values or use data imputation methods to fill the missing values.\n",
    "\n",
    "In this dataset, since the proportion of missing values in the MonthlyIncome column is pretty large, we can use the method of Random Forest to fill the missing values."
   ]
  },
  {
   "cell_type": "code",
   "execution_count": 4,
   "metadata": {},
   "outputs": [],
   "source": [
    "from sklearn.ensemble import RandomForestRegressor\n",
    "mdata = train_data.iloc[:,[5,0,1,2,3,4,6,7,8,9]]\n",
    "train_known = mdata[mdata.MonthlyIncome.notnull()].to_numpy()\n",
    "train_unknown = mdata[mdata.MonthlyIncome.isnull()].to_numpy()\n",
    "train_X = train_known[:,1:]\n",
    "train_Y = train_known[:,0]\n",
    "\n",
    "\n",
    "rfr = RandomForestRegressor(random_state=0, n_estimators= 200, max_depth=3,n_jobs=-1) \n",
    "# n_jobs=-1: using all processors\n",
    "# n_jobs=1：并行job个数。这个在ensemble算法中非常重要，尤其是bagging（而非boosting，\n",
    "# 因为boosting的每次迭代之间有影响，所以很难进行并行化），\n",
    "# 因为可以并行从而提高性能。1=不并行；n：n个并行；-1：CPU有多少core，就启动多少job\n",
    "rfr.fit(train_X, train_Y)\n",
    "predicted = rfr.predict(train_unknown[:,1:]).round(0)\n",
    "\n",
    "#use the prediction result for missing data imputation\n",
    "train_data.loc[train_data.MonthlyIncome.isnull(), 'MonthlyIncome'] = predicted\n",
    "#remove other missing data and duplicate values\n",
    "train_data = train_data.drop_duplicates()\n",
    "train_data = train_data.dropna()"
   ]
  },
  {
   "cell_type": "markdown",
   "metadata": {},
   "source": [
    "#### study notes for python random forest regressor\n",
    "\n",
    "随机森林的随机性体现在： \n",
    "\n",
    "1.数据集的随机选取   \n",
    "\n",
    "从原始的数据集中采取有放回的抽样（bagging），构造子数据集，子数据集的数据量是和原始数据集相同的。不同子数据集的元素可以重复，同一个子数据集中的元素也可以重复。\n",
    "\n",
    "2.待选特征的随机选取  \n",
    "\n",
    "与数据集的随机选取类似，随机森林中的子树的每一个分裂过程并未用到所有的待选特征，而是从所有的待选特征中随机选取一定的特征，之后再在随机选取的特征中选取最优的特征\n",
    "\n",
    "为什么选择随机森林： \n",
    "\n",
    "1，随机森林既可以用于分类问题，也可以用于回归问题\n",
    "\n",
    "2，过拟合是个关键的问题，可能会让模型的结果变得糟糕，但是对于随机森林来说，如果随机森林的树足够多，那么分类器就不会过拟合模型\n",
    "\n",
    "3，随机森林分类器可以处理缺失值\n",
    "\n",
    "4，随机森林分类器可以用分类值建模\n",
    "\n",
    "随机森林构建过程：  \n",
    "\n",
    "1，从原始训练集中使用Bootstraping方法随机有放回采样取出m个样本，共进行n_tree次采样。生成n_tree个训练集\n",
    "\n",
    "2，对n_tree个训练集，我们分别训练n_tree个决策树模型\n",
    "\n",
    "3，对于单个决策树模型，假设训练样本特征的个数为n，那么每次分裂时根据信息增益/信息增益比/基尼指数  选择最好的特征进行分裂\n",
    "\n",
    "4，每棵树都已知这样分裂下去，知道该节点的所有训练样例都属于同一类。在决策树的分裂过程中不需要剪枝\n",
    "\n",
    "5，将生成的多颗决策树组成随机森林。对于分类问题，按照多棵树分类器投票决定最终分类结果；对于回归问题，由多颗树预测值的均值决定最终预测结果\n",
    "\n",
    "注意：OOB（out-of-bag ）：每棵决策树的生成都需要自助采样，这时就有1/3的数据未被选中，这部分数据就称为袋外数据。\n",
    "\n",
    "\n",
    "进行预测可以有几种形式：\n",
    "\n",
    "predict_proba(x)：给出带有概率值的结果。每个点在所有label的概率和为1.  \n",
    "\n",
    "predict(x)：直接给出预测结果。内部还是调用的predict_proba()，根据概率的结果看哪个类型的预测值最高就是哪个类型。  \n",
    "\n",
    "predict_log_proba(x)：和predict_proba基本上一样，只是把结果给做了log()处理。  \n",
    "\n",
    " \n"
   ]
  },
  {
   "cell_type": "markdown",
   "metadata": {},
   "source": [
    "### 2.2.2 Outliers\n",
    "\n",
    "After dealing with missing values, we need to check if the dataset also contains any outliers. Usually we define the outliers as the datapoints that are smaller than Q1 - 1.5 IQR or larger than Q3 + 1.5 IQR. \n",
    "\n",
    "iqr: inter quantile range = q3 - q1\n",
    "lqr: low quantile range = median - q1\n",
    "urq: upper quantile range = q3 - median"
   ]
  },
  {
   "cell_type": "code",
   "execution_count": 5,
   "metadata": {},
   "outputs": [
    {
     "data": {
      "text/plain": [
       "<AxesSubplot:>"
      ]
     },
     "execution_count": 5,
     "metadata": {},
     "output_type": "execute_result"
    },
    {
     "data": {
      "image/png": "[encoded data removed]",
      "text/plain": [
       "<Figure size 432x288 with 1 Axes>"
      ]
     },
     "metadata": {
      "needs_background": "light"
     },
     "output_type": "display_data"
    }
   ],
   "source": [
    "colNameDict=({\n",
    "              'NumberOfTime30-59DaysPastDueNotWorse':'30_59',\n",
    "              'NumberOfTimes90DaysLate':'90_',\n",
    "              'NumberOfTime60-89DaysPastDueNotWorse':'60_89'})\n",
    "train_data.rename(columns=colNameDict,inplace=True)\n",
    "train_data.rename(columns=colNameDict,inplace=True)\n",
    "train_box = train_data.iloc[:,[3,7,9]]\n",
    "train_box.boxplot()"
   ]
  },
  {
   "cell_type": "code",
   "execution_count": 6,
   "metadata": {},
   "outputs": [],
   "source": [
    "train_data = train_data[train_data['30_59']<90] # remove outliers\n",
    "train_data = train_data[train_data['90_']<90] \n",
    "train_data = train_data[train_data['60_89']<90] \n",
    "train_data = train_data[train_data.age>0] # remove values where age <=0\n",
    "train_data['SeriousDlqin2yrs'] = 1-train_data['SeriousDlqin2yrs'] # make good customers as 1, bad customers as 2"
   ]
  },
  {
   "cell_type": "markdown",
   "metadata": {},
   "source": [
    "### 2.2.3 Exploratory Data Analysis\n",
    "\n"
   ]
  },
  {
   "cell_type": "code",
   "execution_count": 9,
   "metadata": {},
   "outputs": [
    {
     "name": "stderr",
     "output_type": "stream",
     "text": [
      "/Users/karen/opt/anaconda3/lib/python3.8/site-packages/seaborn/distributions.py:2551: FutureWarning: `distplot` is a deprecated function and will be removed in a future version. Please adapt your code to use either `displot` (a figure-level function with similar flexibility) or `kdeplot` (an axes-level function for kernel density plots).\n",
      "  warnings.warn(msg, FutureWarning)\n"
     ]
    },
    {
     "data": {
      "text/plain": [
       "<AxesSubplot:xlabel='age', ylabel='Density'>"
      ]
     },
     "execution_count": 9,
     "metadata": {},
     "output_type": "execute_result"
    },
    {
     "data": {
      "image/png": "[encoded data removed]",
      "text/plain": [
       "<Figure size 432x288 with 1 Axes>"
      ]
     },
     "metadata": {
      "needs_background": "light"
     },
     "output_type": "display_data"
    }
   ],
   "source": [
    "age = train_data['age']\n",
    "from scipy.stats import *\n",
    "sns.distplot(age,hist = False, fit = norm)"
   ]
  },
  {
   "cell_type": "markdown",
   "metadata": {},
   "source": [
    "The above result show that the age are normally distributed in this dataset. The average age is around 50."
   ]
  },
  {
   "cell_type": "code",
   "execution_count": 10,
   "metadata": {},
   "outputs": [
    {
     "data": {
      "text/plain": [
       "<seaborn.axisgrid.FacetGrid at 0x7fc4b3e46160>"
      ]
     },
     "execution_count": 10,
     "metadata": {},
     "output_type": "execute_result"
    },
    {
     "data": {
      "image/png": "[encoded data removed]",
      "text/plain": [
       "<Figure size 360x360 with 1 Axes>"
      ]
     },
     "metadata": {
      "needs_background": "light"
     },
     "output_type": "display_data"
    }
   ],
   "source": [
    "# MonthlyIncome Analysis\n",
    "mi = train_data[train_data['MonthlyIncome']<50000]['MonthlyIncome']\n",
    "sns.displot(mi)"
   ]
  },
  {
   "cell_type": "markdown",
   "metadata": {},
   "source": [
    "The Monthly Income is left skewed based on the plot. The average monthly income is around 5000. The result shows that most people have a montly income below 10000, which also indicates that most people may have a high debt rate given their low income level. We can further investigate if the monthly income level is associated with the bad debt rate."
   ]
  },
  {
   "cell_type": "code",
   "execution_count": 55,
   "metadata": {},
   "outputs": [
    {
     "name": "stderr",
     "output_type": "stream",
     "text": [
      "<ipython-input-55-4df7d847091c>:17: SettingWithCopyWarning: \n",
      "A value is trying to be set on a copy of a slice from a DataFrame.\n",
      "Try using .loc[row_indexer,col_indexer] = value instead\n",
      "\n",
      "See the caveats in the documentation: https://pandas.pydata.org/pandas-docs/stable/user_guide/indexing.html#returning-a-view-versus-a-copy\n",
      "  dat_df['U_Bin'] = dy_zh(dat_df['MonthlyIncome'], cut_points, labels)\n"
     ]
    },
    {
     "data": {
      "text/html": [
       "<div>\n",
       "<style scoped>\n",
       "    .dataframe tbody tr th:only-of-type {\n",
       "        vertical-align: middle;\n",
       "    }\n",
       "\n",
       "    .dataframe tbody tr th {\n",
       "        vertical-align: top;\n",
       "    }\n",
       "\n",
       "    .dataframe thead th {\n",
       "        text-align: right;\n",
       "    }\n",
       "</style>\n",
       "<table border=\"1\" class=\"dataframe\">\n",
       "  <thead>\n",
       "    <tr style=\"text-align: right;\">\n",
       "      <th></th>\n",
       "      <th>MonthlyIncome</th>\n",
       "      <th>SeriousDlqin2yrs</th>\n",
       "      <th>U_Bin</th>\n",
       "    </tr>\n",
       "  </thead>\n",
       "  <tbody>\n",
       "    <tr>\n",
       "      <th>0</th>\n",
       "      <td>9120.0</td>\n",
       "      <td>1</td>\n",
       "      <td>2:5000-10000</td>\n",
       "    </tr>\n",
       "    <tr>\n",
       "      <th>1</th>\n",
       "      <td>2600.0</td>\n",
       "      <td>0</td>\n",
       "      <td>1:below 5000</td>\n",
       "    </tr>\n",
       "    <tr>\n",
       "      <th>2</th>\n",
       "      <td>3042.0</td>\n",
       "      <td>0</td>\n",
       "      <td>1:below 5000</td>\n",
       "    </tr>\n",
       "    <tr>\n",
       "      <th>3</th>\n",
       "      <td>3300.0</td>\n",
       "      <td>0</td>\n",
       "      <td>1:below 5000</td>\n",
       "    </tr>\n",
       "    <tr>\n",
       "      <th>4</th>\n",
       "      <td>63588.0</td>\n",
       "      <td>0</td>\n",
       "      <td>4:above 15000</td>\n",
       "    </tr>\n",
       "  </tbody>\n",
       "</table>\n",
       "</div>"
      ],
      "text/plain": [
       "   MonthlyIncome  SeriousDlqin2yrs          U_Bin\n",
       "0         9120.0                 1   2:5000-10000\n",
       "1         2600.0                 0   1:below 5000\n",
       "2         3042.0                 0   1:below 5000\n",
       "3         3300.0                 0   1:below 5000\n",
       "4        63588.0                 0  4:above 15000"
      ]
     },
     "execution_count": 55,
     "metadata": {},
     "output_type": "execute_result"
    }
   ],
   "source": [
    "dat_df=train_data[['MonthlyIncome','SeriousDlqin2yrs']]\n",
    "   #use cut function to tranform the continual variable to catogory variable\n",
    "def dy_zh(col, cut_points, labels=None): \n",
    "    min_num = col.min() \n",
    "    max_num = col.max() \n",
    "    break_points = [min_num] + cut_points + [max_num]\n",
    "    if not labels: \n",
    "        labels = range(len(cut_points)+1)\n",
    "    else: \n",
    "        labels=[str(i+1)+\":\"+labels[i] for i in range(len(cut_points)+1)]         \n",
    "    colBin = pd.cut(col,bins=break_points,\n",
    "         labels=labels,include_lowest=True)    \n",
    "    return colBin \n",
    "         \n",
    "cut_points = [5000,10000,15000] \n",
    "labels=['below 5000', '5000-10000','1000-15000','above 15000'] \n",
    "dat_df['U_Bin'] = dy_zh(dat_df['MonthlyIncome'], cut_points, labels) \n",
    "dat_df.head()"
   ]
  },
  {
   "cell_type": "code",
   "execution_count": 56,
   "metadata": {},
   "outputs": [
    {
     "data": {
      "text/html": [
       "<div>\n",
       "<style scoped>\n",
       "    .dataframe tbody tr th:only-of-type {\n",
       "        vertical-align: middle;\n",
       "    }\n",
       "\n",
       "    .dataframe tbody tr th {\n",
       "        vertical-align: top;\n",
       "    }\n",
       "\n",
       "    .dataframe thead tr th {\n",
       "        text-align: left;\n",
       "    }\n",
       "\n",
       "    .dataframe thead tr:last-of-type th {\n",
       "        text-align: right;\n",
       "    }\n",
       "</style>\n",
       "<table border=\"1\" class=\"dataframe\">\n",
       "  <thead>\n",
       "    <tr>\n",
       "      <th></th>\n",
       "      <th colspan=\"2\" halign=\"left\">MonthlyIncome</th>\n",
       "      <th>SeriousDlqin2yrs</th>\n",
       "    </tr>\n",
       "    <tr>\n",
       "      <th></th>\n",
       "      <th>&lt;lambda_0&gt;</th>\n",
       "      <th>len</th>\n",
       "      <th>sum</th>\n",
       "    </tr>\n",
       "    <tr>\n",
       "      <th>U_Bin</th>\n",
       "      <th></th>\n",
       "      <th></th>\n",
       "      <th></th>\n",
       "    </tr>\n",
       "  </thead>\n",
       "  <tbody>\n",
       "    <tr>\n",
       "      <th>1:below 5000</th>\n",
       "      <td>51.187446</td>\n",
       "      <td>74403.0</td>\n",
       "      <td>5842</td>\n",
       "    </tr>\n",
       "    <tr>\n",
       "      <th>2:5000-10000</th>\n",
       "      <td>36.210218</td>\n",
       "      <td>52633.0</td>\n",
       "      <td>3072</td>\n",
       "    </tr>\n",
       "    <tr>\n",
       "      <th>3:1000-15000</th>\n",
       "      <td>8.967761</td>\n",
       "      <td>13035.0</td>\n",
       "      <td>547</td>\n",
       "    </tr>\n",
       "    <tr>\n",
       "      <th>4:above 15000</th>\n",
       "      <td>3.634575</td>\n",
       "      <td>5283.0</td>\n",
       "      <td>245</td>\n",
       "    </tr>\n",
       "  </tbody>\n",
       "</table>\n",
       "</div>"
      ],
      "text/plain": [
       "              MonthlyIncome          SeriousDlqin2yrs\n",
       "                 <lambda_0>      len              sum\n",
       "U_Bin                                                \n",
       "1:below 5000      51.187446  74403.0             5842\n",
       "2:5000-10000      36.210218  52633.0             3072\n",
       "3:1000-15000       8.967761  13035.0              547\n",
       "4:above 15000      3.634575   5283.0              245"
      ]
     },
     "execution_count": 56,
     "metadata": {},
     "output_type": "execute_result"
    }
   ],
   "source": [
    "#Compute the proportion of people who have past dues by region\n",
    "import numpy as np\n",
    "total_num=dat_df.shape[0]\n",
    "per_table=pd.pivot_table(dat_df,index=['U_Bin'],\n",
    "                         aggfunc={\"MonthlyIncome\":[len, lambda x:len(x)/total_num *100],\n",
    "                                  \"SeriousDlqin2yrs\":[np.sum] },\n",
    "                         values=['MonthlyIncome','SeriousDlqin2yrs']) \n",
    "\n",
    "per_table\n"
   ]
  },
  {
   "cell_type": "code",
   "execution_count": 57,
   "metadata": {},
   "outputs": [
    {
     "data": {
      "text/html": [
       "<div>\n",
       "<style scoped>\n",
       "    .dataframe tbody tr th:only-of-type {\n",
       "        vertical-align: middle;\n",
       "    }\n",
       "\n",
       "    .dataframe tbody tr th {\n",
       "        vertical-align: top;\n",
       "    }\n",
       "\n",
       "    .dataframe thead tr th {\n",
       "        text-align: left;\n",
       "    }\n",
       "\n",
       "    .dataframe thead tr:last-of-type th {\n",
       "        text-align: right;\n",
       "    }\n",
       "</style>\n",
       "<table border=\"1\" class=\"dataframe\">\n",
       "  <thead>\n",
       "    <tr>\n",
       "      <th></th>\n",
       "      <th colspan=\"2\" halign=\"left\">MonthlyIncome</th>\n",
       "      <th colspan=\"2\" halign=\"left\">SeriousDlqin2yrs</th>\n",
       "    </tr>\n",
       "    <tr>\n",
       "      <th></th>\n",
       "      <th>&lt;lambda_0&gt;</th>\n",
       "      <th>len</th>\n",
       "      <th>sum</th>\n",
       "      <th>percent</th>\n",
       "    </tr>\n",
       "    <tr>\n",
       "      <th>U_Bin</th>\n",
       "      <th></th>\n",
       "      <th></th>\n",
       "      <th></th>\n",
       "      <th></th>\n",
       "    </tr>\n",
       "  </thead>\n",
       "  <tbody>\n",
       "    <tr>\n",
       "      <th>1:below 5000</th>\n",
       "      <td>51.187446</td>\n",
       "      <td>74403.0</td>\n",
       "      <td>5842</td>\n",
       "      <td>7.851834</td>\n",
       "    </tr>\n",
       "    <tr>\n",
       "      <th>2:5000-10000</th>\n",
       "      <td>36.210218</td>\n",
       "      <td>52633.0</td>\n",
       "      <td>3072</td>\n",
       "      <td>5.836642</td>\n",
       "    </tr>\n",
       "    <tr>\n",
       "      <th>3:1000-15000</th>\n",
       "      <td>8.967761</td>\n",
       "      <td>13035.0</td>\n",
       "      <td>547</td>\n",
       "      <td>4.196394</td>\n",
       "    </tr>\n",
       "    <tr>\n",
       "      <th>4:above 15000</th>\n",
       "      <td>3.634575</td>\n",
       "      <td>5283.0</td>\n",
       "      <td>245</td>\n",
       "      <td>4.637517</td>\n",
       "    </tr>\n",
       "  </tbody>\n",
       "</table>\n",
       "</div>"
      ],
      "text/plain": [
       "              MonthlyIncome          SeriousDlqin2yrs          \n",
       "                 <lambda_0>      len              sum   percent\n",
       "U_Bin                                                          \n",
       "1:below 5000      51.187446  74403.0             5842  7.851834\n",
       "2:5000-10000      36.210218  52633.0             3072  5.836642\n",
       "3:1000-15000       8.967761  13035.0              547  4.196394\n",
       "4:above 15000      3.634575   5283.0              245  4.637517"
      ]
     },
     "execution_count": 57,
     "metadata": {},
     "output_type": "execute_result"
    }
   ],
   "source": [
    "#增加percent列，它的值来自另外两列数值之比\n",
    "per_table['SeriousDlqin2yrs','percent']=per_table['SeriousDlqin2yrs','sum']/per_table['MonthlyIncome','len']*100\n",
    "per_table\n"
   ]
  },
  {
   "cell_type": "code",
   "execution_count": 52,
   "metadata": {},
   "outputs": [
    {
     "data": {
      "text/html": [
       "<div>\n",
       "<style scoped>\n",
       "    .dataframe tbody tr th:only-of-type {\n",
       "        vertical-align: middle;\n",
       "    }\n",
       "\n",
       "    .dataframe tbody tr th {\n",
       "        vertical-align: top;\n",
       "    }\n",
       "\n",
       "    .dataframe thead tr th {\n",
       "        text-align: left;\n",
       "    }\n",
       "\n",
       "    .dataframe thead tr:last-of-type th {\n",
       "        text-align: right;\n",
       "    }\n",
       "</style>\n",
       "<table border=\"1\" class=\"dataframe\">\n",
       "  <thead>\n",
       "    <tr>\n",
       "      <th></th>\n",
       "      <th>DebtRatio</th>\n",
       "      <th colspan=\"2\" halign=\"left\">MonthlyIncome</th>\n",
       "      <th>DebtRatio</th>\n",
       "    </tr>\n",
       "    <tr>\n",
       "      <th></th>\n",
       "      <th>number</th>\n",
       "      <th>percent</th>\n",
       "      <th>number</th>\n",
       "      <th>percent</th>\n",
       "    </tr>\n",
       "    <tr>\n",
       "      <th>U_Bin</th>\n",
       "      <th></th>\n",
       "      <th></th>\n",
       "      <th></th>\n",
       "      <th></th>\n",
       "    </tr>\n",
       "  </thead>\n",
       "  <tbody>\n",
       "    <tr>\n",
       "      <th>1:below 5000</th>\n",
       "      <td>2.597485e+07</td>\n",
       "      <td>51.187446</td>\n",
       "      <td>74403.0</td>\n",
       "      <td>34911.029618</td>\n",
       "    </tr>\n",
       "    <tr>\n",
       "      <th>2:5000-10000</th>\n",
       "      <td>2.271661e+07</td>\n",
       "      <td>36.210218</td>\n",
       "      <td>52633.0</td>\n",
       "      <td>43160.390109</td>\n",
       "    </tr>\n",
       "    <tr>\n",
       "      <th>3:1000-15000</th>\n",
       "      <td>3.847113e+03</td>\n",
       "      <td>8.967761</td>\n",
       "      <td>13035.0</td>\n",
       "      <td>29.513719</td>\n",
       "    </tr>\n",
       "    <tr>\n",
       "      <th>4:above 15000</th>\n",
       "      <td>1.323084e+03</td>\n",
       "      <td>3.634575</td>\n",
       "      <td>5283.0</td>\n",
       "      <td>25.044180</td>\n",
       "    </tr>\n",
       "  </tbody>\n",
       "</table>\n",
       "</div>"
      ],
      "text/plain": [
       "                  DebtRatio MonthlyIncome              DebtRatio\n",
       "                     number       percent   number       percent\n",
       "U_Bin                                                           \n",
       "1:below 5000   2.597485e+07     51.187446  74403.0  34911.029618\n",
       "2:5000-10000   2.271661e+07     36.210218  52633.0  43160.390109\n",
       "3:1000-15000   3.847113e+03      8.967761  13035.0     29.513719\n",
       "4:above 15000  1.323084e+03      3.634575   5283.0     25.044180"
      ]
     },
     "execution_count": 52,
     "metadata": {},
     "output_type": "execute_result"
    }
   ],
   "source": [
    "#列名重命名\n",
    "per_table=per_table.rename(columns={'<lambda_0>':'percent','len': 'number','sum':'number'})\n",
    "#设置索引\n",
    "per_table=per_table.reindex((per_table.columns[0],per_table.columns[3],\n",
    "                              per_table.columns[2],per_table.columns[1]),axis=1)\n",
    "\n",
    "per_table"
   ]
  },
  {
   "cell_type": "markdown",
   "metadata": {},
   "source": [
    "### Divide data into training and testing sets\n",
    "\n",
    "set the testing dataset = 30% of the training dataset"
   ]
  },
  {
   "cell_type": "code",
   "execution_count": 11,
   "metadata": {},
   "outputs": [],
   "source": [
    "from sklearn.model_selection import train_test_split\n",
    "y = train_data.iloc[:,0]\n",
    "X = train_data.iloc[:,1:]\n",
    "train_X, test_X, train_y, test_y = train_test_split(X,y,test_size  = 0.3, random_state = 0)\n",
    "ntrain_data = pd.concat([train_y, train_X],axis=1)\n",
    "ntest_data = pd.concat([test_y,test_X], axis =1)"
   ]
  },
  {
   "cell_type": "markdown",
   "metadata": {},
   "source": [
    "### Binning \n",
    "\n",
    "\n",
    "分箱的作用： 当有多个离散变量时（分类变量）， binning可以避免维度灾难： 而分箱方法就是其中一种，它能够把非常多的类别按照一定的规则归并为少数的类别，从而突出了整体特征，\n",
    "\n",
    "对于连续变量（也就是数值变量），我们需要认真思考一个问题：我们最后得到的是一个极大似然估计，也就是概率值。如果使用逻辑回归（LR），这个连续变量一个单位的变化，真的就呈线性地增加了这个概率了吗？我认为很多情况下，答案是否定的。当一个人的年龄超过一定的岁数，他再增长一岁给违约概率带来的变化其实不是特别的大。而且在不同年龄范围，每个人违约的概率收到年龄的影响也不尽相同，所以后面才会有一个叫做多元自适应回归样条的出现（其本质是分段线性回归）。不过对于这么多变量而言，做样条显然不划算，弄得模型非常复杂。比较好的选择就是，在数据准备的阶段对这些连续变量做分箱。"
   ]
  },
  {
   "cell_type": "code",
   "execution_count": 17,
   "metadata": {},
   "outputs": [],
   "source": [
    "#define optimal binning function\n",
    "from scipy import stats\n",
    "def mono_bin(Y,X, n= 10):\n",
    "    r = 0\n",
    "    good = Y.sum()\n",
    "    bad = Y.count() - good\n",
    "    while np.abs(r)<1:\n",
    "        d1 = pd.DataFrame({\"X\":X,\"Y\":Y,\"Bucket\":pd.qcut(X,n)})\n",
    "        d2 = d1.groupby(\"Bucket\",as_index=True)\n",
    "        r,p = stats.spearmanr(d2.mean().X, d2.mean().Y)\n",
    "        n = n-1\n",
    "    d3 = pd.DataFrame(d2.X.min(), columns = ['min'])  \n",
    "    d3['min'] = d2.min().X   \n",
    "    d3['max'] = d2.max().X\n",
    "    d3['sum'] = d2.sum().Y\n",
    "    d3['total'] = d2.count().Y\n",
    "    d3['rate'] = d2.mean().Y\n",
    "    d3['woe'] = np.log(d3['rate']/(1-d3['rate']))/(good)/(bad)\n",
    "    d3['goodattribute'] = d3['sum']/good\n",
    "    d3['badattribute'] = (d3['total'] - d3['sum'])/bad\n",
    "    iv = ((d3['goodattribute']-d3['badattribute'])*d3['woe']).sum()\n",
    "    d4 = (d3.sort_values(by ='min')).reset_index(drop=True)\n",
    "    woe = list(d4['woe'].round(3))\n",
    "    cut = []\n",
    "    cut.append(float('-inf'))\n",
    "    for i in range(1,n+1):\n",
    "        qua = X.quantile(i/(n+1))\n",
    "        cut.append(round(qua,4))\n",
    "    cut.append(float('inf'))\n",
    "    return d4,iv,cut,woe"
   ]
  },
  {
   "cell_type": "code",
   "execution_count": 24,
   "metadata": {},
   "outputs": [],
   "source": [
    "#use the above optimal binning fuction on RevolvingUtilizationOfUnsecuredLines、age、DebtRatio and MonthlyIncome\n",
    "\n",
    "x1_d,x1_iv, x1_cut,x1_woe = mono_bin(train_y,train_X.RevolvingUtilizationOfUnsecuredLines)\n",
    "x2_d,x2_iv, x2_cut,x2_woe = mono_bin(train_y,train_X.age)\n",
    "x4_d,x4_iv, x4_cut,x4_woe = mono_bin(train_y,train_X.DebtRatio)\n",
    "x5_d,x5_iv, x5_cut,x5_woe = mono_bin(train_y,train_X.MonthlyIncome)"
   ]
  },
  {
   "cell_type": "code",
   "execution_count": 28,
   "metadata": {},
   "outputs": [],
   "source": [
    "def woe_value(d1):\n",
    "    d2 = d1.groupby(\"Bucket\",as_index=True)\n",
    "    good = train_y.sum()\n",
    "    bad = train_y.count() - good\n",
    "    d3 = pd.DataFrame(d2.X.min(), columns = ['min'])  \n",
    "    d3['min'] = d2.min().X   \n",
    "    d3['max'] = d2.max().X\n",
    "    d3['sum'] = d2.sum().Y\n",
    "    d3['total'] = d2.count().Y\n",
    "    d3['rate'] = d2.mean().Y\n",
    "    d3['woe'] = np.log((d3['rate']/good)/(1-d3['rate'])/(bad))\n",
    "    d3['goodattribute'] = d3['sum']/good\n",
    "    d3['badattribute'] = (d3['total'] - d3['sum'])/bad\n",
    "    iv = ((d3['goodattribute']-d3['badattribute'])*d3['woe']).sum()\n",
    "    d4 = (d3.sort_values(by ='min')).reset_index(drop=True)\n",
    "    woe = list(d4['woe'].round(3))\n",
    "    return d4,iv,woe\n",
    "    "
   ]
  },
  {
   "cell_type": "markdown",
   "metadata": {},
   "source": [
    "### correlation analysis"
   ]
  },
  {
   "cell_type": "code",
   "execution_count": 22,
   "metadata": {},
   "outputs": [
    {
     "data": {
      "image/png": "[encoded data removed]",
      "text/plain": [
       "<Figure size 432x288 with 2 Axes>"
      ]
     },
     "metadata": {
      "needs_background": "light"
     },
     "output_type": "display_data"
    }
   ],
   "source": [
    "import matplotlib.pyplot as plt\n",
    "corr = train_data.corr()\n",
    "xticks = ['x0','x1','x2','x3','x4','x5','x6','x7','x8','x9','x10']\n",
    "yticks = list(train_data.columns)\n",
    "fig = plt.figure()\n",
    "ax1 = fig.add_subplot(111)\n",
    "sns.heatmap(corr, annot = True, cmap = 'hsv', ax=ax1, annot_kws={'size':6, 'color':'blue', 'weight':'bold'})\n",
    "ax1.set_xticklabels(xticks, rotation =0, fontsize = 10)\n",
    "ax1.set_yticklabels(yticks, rotation =0, fontsize = 10)\n",
    "plt.show()"
   ]
  },
  {
   "cell_type": "markdown",
   "metadata": {},
   "source": [
    "The above heatmap shows the variables have small correlation coefficients with other variables."
   ]
  },
  {
   "cell_type": "markdown",
   "metadata": {},
   "source": [
    "### Calculate Information Value"
   ]
  },
  {
   "cell_type": "code",
   "execution_count": null,
   "metadata": {},
   "outputs": [],
   "source": [
    "informationvalue = []\n",
    "informationvalue.append(x1_iv)\n",
    "informationvalue.append(x2_iv)\n",
    "informationvalue.append(x3_iv)\n",
    "informationvalue.append(x4_iv)\n",
    "informationvalue.append(x5_iv)\n",
    "informationvalue.append(x6_iv)\n",
    "informationvalue.append(x7_iv)\n",
    "informationvalue.append(x8_iv)\n",
    "informationvalue.append(x9_iv)\n",
    "informationvalue.append(x10_iv)\n",
    "information_value\n"
   ]
  }
 ],
 "metadata": {
  "interpreter": {
   "hash": "eba38789ab565d76f074e8fa97ecc7da63eb4a5e1ba28cc348f16f5285783ca7"
  },
  "kernelspec": {
   "display_name": "Python 3.8.5 64-bit ('base': conda)",
   "language": "python",
   "name": "python3"
  },
  "language_info": {
   "codemirror_mode": {
    "name": "ipython",
    "version": 3
   },
   "file_extension": ".py",
   "mimetype": "text/x-python",
   "name": "python",
   "nbconvert_exporter": "python",
   "pygments_lexer": "ipython3",
   "version": "3.8.5"
  },
  "orig_nbformat": 4
 },
 "nbformat": 4,
 "nbformat_minor": 2
}
